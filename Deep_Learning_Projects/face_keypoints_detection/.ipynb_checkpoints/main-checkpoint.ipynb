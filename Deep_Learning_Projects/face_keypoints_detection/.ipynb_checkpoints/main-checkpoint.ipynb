{
 "cells": [
  {
   "cell_type": "markdown",
   "metadata": {},
   "source": [
    "## Imports"
   ]
  },
  {
   "cell_type": "code",
   "execution_count": 72,
   "metadata": {},
   "outputs": [],
   "source": [
    "import os\n",
    "import numpy as np\n",
    "import matplotlib.pyplot as plt\n",
    "import pandas as pd\n",
    "import tensorflow as tf\n",
    "\n",
    "from sklearn.utils import shuffle\n",
    "from tensorflow.keras.models import Sequential\n",
    "from tensorflow.keras.layers import Conv2D, MaxPooling2D, Dropout, GlobalAveragePooling2D, Activation\n",
    "from tensorflow.keras.layers import Flatten, Dense, BatchNormalization, Reshape\n",
    "from tensorflow.keras import optimizers\n",
    "from tensorflow.keras.callbacks import ModelCheckpoint, History\n",
    "from tensorflow.keras.applications.vgg16 import VGG16\n"
   ]
  },
  {
   "cell_type": "markdown",
   "metadata": {},
   "source": [
    "## Loading the data"
   ]
  },
  {
   "cell_type": "code",
   "execution_count": 53,
   "metadata": {},
   "outputs": [],
   "source": [
    "def load_data():\n",
    "    # Load dataset file\n",
    "    data_frame = pd.read_csv('dataset/train.csv')\n",
    "    \n",
    "    data_frame['Image'] = data_frame['Image'].apply(lambda i: np.fromstring(i, sep=' '))\n",
    "    data_frame = data_frame.dropna()  # Get only the data with 15 keypoints\n",
    "   \n",
    "    # Extract Images pixel values\n",
    "    imgs_array = np.vstack(data_frame['Image'].values)/ 255.0\n",
    "    imgs_array = imgs_array.astype(np.float32)    # Normalize, target values to (0, 1)\n",
    "    imgs_array = imgs_array.reshape(-1, 96, 96, 1)\n",
    "        \n",
    "    # Extract labels (key point cords)\n",
    "    labels_array = data_frame[data_frame.columns[:-1]].values\n",
    "    labels_array = (labels_array - 48) / 48    # Normalize, traget cordinates to (-1, 1)\n",
    "    labels_array = labels_array.astype(np.float32) \n",
    "    \n",
    "    return imgs_array, labels_array"
   ]
  },
  {
   "cell_type": "markdown",
   "metadata": {},
   "source": [
    "## Visualization"
   ]
  },
  {
   "cell_type": "code",
   "execution_count": 54,
   "metadata": {},
   "outputs": [],
   "source": [
    "train_x, train_y = load_data()"
   ]
  },
  {
   "cell_type": "code",
   "execution_count": 55,
   "metadata": {},
   "outputs": [
    {
     "name": "stdout",
     "output_type": "stream",
     "text": [
      "(2140, 96, 96, 1)\n",
      "(2140, 30)\n"
     ]
    }
   ],
   "source": [
    "print(train_x.shape)\n",
    "print(train_y.shape)"
   ]
  },
  {
   "cell_type": "code",
   "execution_count": 56,
   "metadata": {},
   "outputs": [
    {
     "data": {
      "image/png": "[encoded data removed]",
      "text/plain": [
       "<Figure size 432x288 with 1 Axes>"
      ]
     },
     "metadata": {
      "needs_background": "light"
     },
     "output_type": "display_data"
    }
   ],
   "source": [
    "n=3\n",
    "train_y[n] = (train_y[n]*48)+48\n",
    "image = np.squeeze(train_x[n])\n",
    "plt.imshow(image, cmap='gray')\n",
    "plt.plot(train_y[n][::2], train_y[n][1::2], 'ro')\n",
    "plt.show()"
   ]
  },
  {
   "cell_type": "code",
   "execution_count": 16,
   "metadata": {},
   "outputs": [
    {
     "data": {
      "text/plain": [
       "array([7477950. , 4393028. , 3324389.2, 4459292. , 6726790.5, 4481404.5,\n",
       "       8450086. , 4415104. , 4208112.5, 4481404.5, 2285990. , 4525592. ,\n",
       "       6174422.5, 3487193. , 9068680. , 3266253. , 4451128. , 3376741. ,\n",
       "       1623170. , 3663944.5, 5224399.5, 7088422.5, 7574819. , 8137585.5,\n",
       "       3343426. , 8151423. , 5393573. , 8379245. , 5533715. , 9695476. ],\n",
       "      dtype=float32)"
      ]
     },
     "execution_count": 16,
     "metadata": {},
     "output_type": "execute_result"
    }
   ],
   "source": [
    "train_y[0]"
   ]
  },
  {
   "cell_type": "markdown",
   "metadata": {},
   "source": [
    "## SImple Model"
   ]
  },
  {
   "cell_type": "code",
   "execution_count": 51,
   "metadata": {},
   "outputs": [],
   "source": [
    "def simple_model():\n",
    "    model = Sequential()\n",
    "    \n",
    "    model.add(Conv2D(16, (3,3), padding='same', activation='relu', input_shape=(96, 96, 1))) # Input shape: (96, 96, 1)\n",
    "    model.add(MaxPooling2D(pool_size=2))\n",
    "    \n",
    "    model.add(Conv2D(32, (3,3), padding='same', activation='relu'))\n",
    "    model.add(MaxPooling2D(pool_size=2))\n",
    "    \n",
    "    model.add(Conv2D(64, (3,3), padding='same', activation='relu'))\n",
    "    model.add(MaxPooling2D(pool_size=2))\n",
    "    \n",
    "    model.add(Conv2D(128, (3,3), padding='same', activation='relu'))\n",
    "    model.add(MaxPooling2D(pool_size=2))\n",
    "    \n",
    "    model.add(Conv2D(256, (3,3), padding='same', activation='relu'))\n",
    "    model.add(MaxPooling2D(pool_size=2))\n",
    "    \n",
    "    # Convert all values to 1D array\n",
    "    model.add(Flatten())\n",
    "    \n",
    "    model.add(Dense(512, activation='relu'))\n",
    "    model.add(Dropout(0.2))\n",
    "\n",
    "    model.add(Dense(30))\n",
    "    \n",
    "    return model"
   ]
  },
  {
   "cell_type": "code",
   "execution_count": 58,
   "metadata": {},
   "outputs": [
    {
     "name": "stdout",
     "output_type": "stream",
     "text": [
      "Training datapoint shape: X_train.shape:(2140, 96, 96, 1)\n",
      "Training labels shape: y_train.shape:(2140, 30)\n"
     ]
    }
   ],
   "source": [
    "X_train, y_train = load_data()\n",
    "print(\"Training datapoint shape: X_train.shape:{}\".format(X_train.shape))\n",
    "print(\"Training labels shape: y_train.shape:{}\".format(y_train.shape))\n",
    "\n",
    "\n",
    "epochs = 60\n",
    "batch_size = 64\n",
    "\n",
    "model = simple_model()\n",
    "hist = History()\n",
    "\n",
    "checkpointer = ModelCheckpoint(filepath='checkpoint1.hdf5', \n",
    "                               verbose=1, save_best_only=True)\n",
    "\n",
    "# Complie Model\n",
    "model.compile(optimizer='adam', loss='mean_squared_error', metrics=['accuracy'])"
   ]
  },
  {
   "cell_type": "code",
   "execution_count": 59,
   "metadata": {},
   "outputs": [
    {
     "name": "stdout",
     "output_type": "stream",
     "text": [
      "Epoch 1/60\n",
      "27/27 [==============================] - ETA: 0s - loss: 0.0270 - accuracy: 0.5590\n",
      "Epoch 00001: val_loss improved from inf to 0.01015, saving model to checkpoint1.hdf5\n",
      "27/27 [==============================] - 9s 327ms/step - loss: 0.0270 - accuracy: 0.5590 - val_loss: 0.0101 - val_accuracy: 0.4322\n",
      "Epoch 2/60\n",
      "27/27 [==============================] - ETA: 0s - loss: 0.0083 - accuracy: 0.6478\n",
      "Epoch 00002: val_loss improved from 0.01015 to 0.00862, saving model to checkpoint1.hdf5\n",
      "27/27 [==============================] - 9s 319ms/step - loss: 0.0083 - accuracy: 0.6478 - val_loss: 0.0086 - val_accuracy: 0.4322\n",
      "Epoch 3/60\n",
      "27/27 [==============================] - ETA: 0s - loss: 0.0063 - accuracy: 0.6875\n",
      "Epoch 00003: val_loss improved from 0.00862 to 0.00817, saving model to checkpoint1.hdf5\n",
      "27/27 [==============================] - 9s 334ms/step - loss: 0.0063 - accuracy: 0.6875 - val_loss: 0.0082 - val_accuracy: 0.4322\n",
      "Epoch 4/60\n",
      "27/27 [==============================] - ETA: 0s - loss: 0.0056 - accuracy: 0.7220\n",
      "Epoch 00004: val_loss improved from 0.00817 to 0.00762, saving model to checkpoint1.hdf5\n",
      "27/27 [==============================] - 9s 321ms/step - loss: 0.0056 - accuracy: 0.7220 - val_loss: 0.0076 - val_accuracy: 0.4322\n",
      "Epoch 5/60\n",
      "27/27 [==============================] - ETA: 0s - loss: 0.0052 - accuracy: 0.7138\n",
      "Epoch 00005: val_loss did not improve from 0.00762\n",
      "27/27 [==============================] - 9s 333ms/step - loss: 0.0052 - accuracy: 0.7138 - val_loss: 0.0077 - val_accuracy: 0.4322\n",
      "Epoch 6/60\n",
      "27/27 [==============================] - ETA: 0s - loss: 0.0050 - accuracy: 0.7179\n",
      "Epoch 00006: val_loss did not improve from 0.00762\n",
      "27/27 [==============================] - 9s 320ms/step - loss: 0.0050 - accuracy: 0.7179 - val_loss: 0.0077 - val_accuracy: 0.4322\n",
      "Epoch 7/60\n",
      "27/27 [==============================] - ETA: 0s - loss: 0.0048 - accuracy: 0.7395\n",
      "Epoch 00007: val_loss did not improve from 0.00762\n",
      "27/27 [==============================] - 9s 342ms/step - loss: 0.0048 - accuracy: 0.7395 - val_loss: 0.0077 - val_accuracy: 0.4322\n",
      "Epoch 8/60\n",
      "27/27 [==============================] - ETA: 0s - loss: 0.0045 - accuracy: 0.7465\n",
      "Epoch 00008: val_loss did not improve from 0.00762\n",
      "27/27 [==============================] - 9s 334ms/step - loss: 0.0045 - accuracy: 0.7465 - val_loss: 0.0080 - val_accuracy: 0.4322\n",
      "Epoch 9/60\n",
      "27/27 [==============================] - ETA: 0s - loss: 0.0044 - accuracy: 0.7389\n",
      "Epoch 00009: val_loss did not improve from 0.00762\n",
      "27/27 [==============================] - 9s 333ms/step - loss: 0.0044 - accuracy: 0.7389 - val_loss: 0.0076 - val_accuracy: 0.4322\n",
      "Epoch 10/60\n",
      "27/27 [==============================] - ETA: 0s - loss: 0.0041 - accuracy: 0.7436\n",
      "Epoch 00010: val_loss did not improve from 0.00762\n",
      "27/27 [==============================] - 16s 590ms/step - loss: 0.0041 - accuracy: 0.7436 - val_loss: 0.0078 - val_accuracy: 0.4206\n",
      "Epoch 11/60\n",
      "27/27 [==============================] - ETA: 0s - loss: 0.0039 - accuracy: 0.7611\n",
      "Epoch 00011: val_loss improved from 0.00762 to 0.00715, saving model to checkpoint1.hdf5\n",
      "27/27 [==============================] - 17s 616ms/step - loss: 0.0039 - accuracy: 0.7611 - val_loss: 0.0072 - val_accuracy: 0.4393\n",
      "Epoch 12/60\n",
      "27/27 [==============================] - ETA: 0s - loss: 0.0043 - accuracy: 0.7558\n",
      "Epoch 00012: val_loss improved from 0.00715 to 0.00688, saving model to checkpoint1.hdf5\n",
      "27/27 [==============================] - 16s 578ms/step - loss: 0.0043 - accuracy: 0.7558 - val_loss: 0.0069 - val_accuracy: 0.4346\n",
      "Epoch 13/60\n",
      "27/27 [==============================] - ETA: 0s - loss: 0.0035 - accuracy: 0.7564\n",
      "Epoch 00013: val_loss improved from 0.00688 to 0.00656, saving model to checkpoint1.hdf5\n",
      "27/27 [==============================] - 15s 562ms/step - loss: 0.0035 - accuracy: 0.7564 - val_loss: 0.0066 - val_accuracy: 0.4533\n",
      "Epoch 14/60\n",
      "27/27 [==============================] - ETA: 0s - loss: 0.0031 - accuracy: 0.7599\n",
      "Epoch 00014: val_loss improved from 0.00656 to 0.00562, saving model to checkpoint1.hdf5\n",
      "27/27 [==============================] - 13s 498ms/step - loss: 0.0031 - accuracy: 0.7599 - val_loss: 0.0056 - val_accuracy: 0.4463\n",
      "Epoch 15/60\n",
      "27/27 [==============================] - ETA: 0s - loss: 0.0032 - accuracy: 0.7529\n",
      "Epoch 00015: val_loss improved from 0.00562 to 0.00560, saving model to checkpoint1.hdf5\n",
      "27/27 [==============================] - 11s 417ms/step - loss: 0.0032 - accuracy: 0.7529 - val_loss: 0.0056 - val_accuracy: 0.4276\n",
      "Epoch 16/60\n",
      "27/27 [==============================] - ETA: 0s - loss: 0.0030 - accuracy: 0.7664\n",
      "Epoch 00016: val_loss did not improve from 0.00560\n",
      "27/27 [==============================] - 9s 349ms/step - loss: 0.0030 - accuracy: 0.7664 - val_loss: 0.0057 - val_accuracy: 0.4299\n",
      "Epoch 17/60\n",
      "27/27 [==============================] - ETA: 0s - loss: 0.0027 - accuracy: 0.7769\n",
      "Epoch 00017: val_loss did not improve from 0.00560\n",
      "27/27 [==============================] - 10s 370ms/step - loss: 0.0027 - accuracy: 0.7769 - val_loss: 0.0057 - val_accuracy: 0.4393\n",
      "Epoch 18/60\n",
      "27/27 [==============================] - ETA: 0s - loss: 0.0025 - accuracy: 0.7757\n",
      "Epoch 00018: val_loss improved from 0.00560 to 0.00536, saving model to checkpoint1.hdf5\n",
      "27/27 [==============================] - 9s 346ms/step - loss: 0.0025 - accuracy: 0.7757 - val_loss: 0.0054 - val_accuracy: 0.4930\n",
      "Epoch 19/60\n",
      "27/27 [==============================] - ETA: 0s - loss: 0.0024 - accuracy: 0.7850\n",
      "Epoch 00019: val_loss improved from 0.00536 to 0.00485, saving model to checkpoint1.hdf5\n",
      "27/27 [==============================] - 9s 339ms/step - loss: 0.0024 - accuracy: 0.7850 - val_loss: 0.0048 - val_accuracy: 0.4603\n",
      "Epoch 20/60\n",
      "27/27 [==============================] - ETA: 0s - loss: 0.0025 - accuracy: 0.7956\n",
      "Epoch 00020: val_loss did not improve from 0.00485\n",
      "27/27 [==============================] - 9s 341ms/step - loss: 0.0025 - accuracy: 0.7956 - val_loss: 0.0049 - val_accuracy: 0.4696\n",
      "Epoch 21/60\n",
      "27/27 [==============================] - ETA: 0s - loss: 0.0027 - accuracy: 0.7868\n",
      "Epoch 00021: val_loss did not improve from 0.00485\n",
      "27/27 [==============================] - 9s 334ms/step - loss: 0.0027 - accuracy: 0.7868 - val_loss: 0.0054 - val_accuracy: 0.4579\n",
      "Epoch 22/60\n",
      "27/27 [==============================] - ETA: 0s - loss: 0.0022 - accuracy: 0.7833\n",
      "Epoch 00022: val_loss improved from 0.00485 to 0.00467, saving model to checkpoint1.hdf5\n",
      "27/27 [==============================] - 9s 339ms/step - loss: 0.0022 - accuracy: 0.7833 - val_loss: 0.0047 - val_accuracy: 0.4836\n",
      "Epoch 23/60\n",
      "27/27 [==============================] - ETA: 0s - loss: 0.0023 - accuracy: 0.7991\n",
      "Epoch 00023: val_loss did not improve from 0.00467\n",
      "27/27 [==============================] - 9s 329ms/step - loss: 0.0023 - accuracy: 0.7991 - val_loss: 0.0047 - val_accuracy: 0.4766\n",
      "Epoch 24/60\n",
      "27/27 [==============================] - ETA: 0s - loss: 0.0022 - accuracy: 0.7821\n",
      "Epoch 00024: val_loss improved from 0.00467 to 0.00437, saving model to checkpoint1.hdf5\n",
      "27/27 [==============================] - 8s 296ms/step - loss: 0.0022 - accuracy: 0.7821 - val_loss: 0.0044 - val_accuracy: 0.4883\n",
      "Epoch 25/60\n",
      "27/27 [==============================] - ETA: 0s - loss: 0.0021 - accuracy: 0.7874\n",
      "Epoch 00025: val_loss did not improve from 0.00437\n",
      "27/27 [==============================] - 8s 286ms/step - loss: 0.0021 - accuracy: 0.7874 - val_loss: 0.0046 - val_accuracy: 0.4720\n",
      "Epoch 26/60\n",
      "27/27 [==============================] - ETA: 0s - loss: 0.0019 - accuracy: 0.7991\n",
      "Epoch 00026: val_loss did not improve from 0.00437\n",
      "27/27 [==============================] - 8s 286ms/step - loss: 0.0019 - accuracy: 0.7991 - val_loss: 0.0050 - val_accuracy: 0.4883\n",
      "Epoch 27/60\n",
      "27/27 [==============================] - ETA: 0s - loss: 0.0023 - accuracy: 0.8160\n",
      "Epoch 00027: val_loss did not improve from 0.00437\n",
      "27/27 [==============================] - 8s 283ms/step - loss: 0.0023 - accuracy: 0.8160 - val_loss: 0.0052 - val_accuracy: 0.4953\n",
      "Epoch 28/60\n",
      "27/27 [==============================] - ETA: 0s - loss: 0.0019 - accuracy: 0.8096\n",
      "Epoch 00028: val_loss did not improve from 0.00437\n",
      "27/27 [==============================] - 8s 293ms/step - loss: 0.0019 - accuracy: 0.8096 - val_loss: 0.0051 - val_accuracy: 0.5023\n",
      "Epoch 29/60\n",
      "27/27 [==============================] - ETA: 0s - loss: 0.0018 - accuracy: 0.8265\n",
      "Epoch 00029: val_loss did not improve from 0.00437\n",
      "27/27 [==============================] - 8s 289ms/step - loss: 0.0018 - accuracy: 0.8265 - val_loss: 0.0049 - val_accuracy: 0.4977\n",
      "Epoch 30/60\n",
      "27/27 [==============================] - ETA: 0s - loss: 0.0018 - accuracy: 0.8265\n",
      "Epoch 00030: val_loss improved from 0.00437 to 0.00412, saving model to checkpoint1.hdf5\n",
      "27/27 [==============================] - 8s 297ms/step - loss: 0.0018 - accuracy: 0.8265 - val_loss: 0.0041 - val_accuracy: 0.5280\n",
      "Epoch 31/60\n",
      "27/27 [==============================] - ETA: 0s - loss: 0.0017 - accuracy: 0.8049\n",
      "Epoch 00031: val_loss improved from 0.00412 to 0.00398, saving model to checkpoint1.hdf5\n",
      "27/27 [==============================] - 8s 302ms/step - loss: 0.0017 - accuracy: 0.8049 - val_loss: 0.0040 - val_accuracy: 0.5000\n",
      "Epoch 32/60\n",
      "27/27 [==============================] - ETA: 0s - loss: 0.0017 - accuracy: 0.8195\n",
      "Epoch 00032: val_loss did not improve from 0.00398\n",
      "27/27 [==============================] - 8s 311ms/step - loss: 0.0017 - accuracy: 0.8195 - val_loss: 0.0050 - val_accuracy: 0.5584\n",
      "Epoch 33/60\n",
      "27/27 [==============================] - ETA: 0s - loss: 0.0020 - accuracy: 0.8283\n",
      "Epoch 00033: val_loss did not improve from 0.00398\n",
      "27/27 [==============================] - 9s 315ms/step - loss: 0.0020 - accuracy: 0.8283 - val_loss: 0.0047 - val_accuracy: 0.5187\n",
      "Epoch 34/60\n",
      "27/27 [==============================] - ETA: 0s - loss: 0.0017 - accuracy: 0.8230\n",
      "Epoch 00034: val_loss did not improve from 0.00398\n",
      "27/27 [==============================] - 8s 307ms/step - loss: 0.0017 - accuracy: 0.8230 - val_loss: 0.0041 - val_accuracy: 0.4696\n",
      "Epoch 35/60\n",
      "27/27 [==============================] - ETA: 0s - loss: 0.0016 - accuracy: 0.8376\n",
      "Epoch 00035: val_loss did not improve from 0.00398\n",
      "27/27 [==============================] - 9s 319ms/step - loss: 0.0016 - accuracy: 0.8376 - val_loss: 0.0042 - val_accuracy: 0.5070\n",
      "Epoch 36/60\n",
      "27/27 [==============================] - ETA: 0s - loss: 0.0016 - accuracy: 0.8277\n",
      "Epoch 00036: val_loss improved from 0.00398 to 0.00397, saving model to checkpoint1.hdf5\n",
      "27/27 [==============================] - 9s 334ms/step - loss: 0.0016 - accuracy: 0.8277 - val_loss: 0.0040 - val_accuracy: 0.5537\n",
      "Epoch 37/60\n",
      "27/27 [==============================] - ETA: 0s - loss: 0.0016 - accuracy: 0.8335\n",
      "Epoch 00037: val_loss did not improve from 0.00397\n",
      "27/27 [==============================] - 9s 318ms/step - loss: 0.0016 - accuracy: 0.8335 - val_loss: 0.0043 - val_accuracy: 0.4860\n",
      "Epoch 38/60\n",
      "27/27 [==============================] - ETA: 0s - loss: 0.0016 - accuracy: 0.8213\n",
      "Epoch 00038: val_loss did not improve from 0.00397\n",
      "27/27 [==============================] - 8s 298ms/step - loss: 0.0016 - accuracy: 0.8213 - val_loss: 0.0043 - val_accuracy: 0.5000\n",
      "Epoch 39/60\n",
      "27/27 [==============================] - ETA: 0s - loss: 0.0016 - accuracy: 0.8347\n",
      "Epoch 00039: val_loss did not improve from 0.00397\n",
      "27/27 [==============================] - 8s 294ms/step - loss: 0.0016 - accuracy: 0.8347 - val_loss: 0.0042 - val_accuracy: 0.5164\n",
      "Epoch 40/60\n",
      "27/27 [==============================] - ETA: 0s - loss: 0.0016 - accuracy: 0.8148\n",
      "Epoch 00040: val_loss did not improve from 0.00397\n",
      "27/27 [==============================] - 10s 358ms/step - loss: 0.0016 - accuracy: 0.8148 - val_loss: 0.0041 - val_accuracy: 0.5280\n",
      "Epoch 41/60\n",
      "27/27 [==============================] - ETA: 0s - loss: 0.0014 - accuracy: 0.8218\n",
      "Epoch 00041: val_loss did not improve from 0.00397\n",
      "27/27 [==============================] - 8s 308ms/step - loss: 0.0014 - accuracy: 0.8218 - val_loss: 0.0040 - val_accuracy: 0.5164\n",
      "Epoch 42/60\n",
      "27/27 [==============================] - ETA: 0s - loss: 0.0015 - accuracy: 0.8335\n",
      "Epoch 00042: val_loss did not improve from 0.00397\n",
      "27/27 [==============================] - 8s 294ms/step - loss: 0.0015 - accuracy: 0.8335 - val_loss: 0.0041 - val_accuracy: 0.5280\n",
      "Epoch 43/60\n",
      "27/27 [==============================] - ETA: 0s - loss: 0.0015 - accuracy: 0.8370\n",
      "Epoch 00043: val_loss did not improve from 0.00397\n",
      "27/27 [==============================] - 8s 284ms/step - loss: 0.0015 - accuracy: 0.8370 - val_loss: 0.0043 - val_accuracy: 0.4977\n",
      "Epoch 44/60\n",
      "27/27 [==============================] - ETA: 0s - loss: 0.0015 - accuracy: 0.8306\n",
      "Epoch 00044: val_loss did not improve from 0.00397\n",
      "27/27 [==============================] - 8s 281ms/step - loss: 0.0015 - accuracy: 0.8306 - val_loss: 0.0041 - val_accuracy: 0.5701\n",
      "Epoch 45/60\n",
      "27/27 [==============================] - ETA: 0s - loss: 0.0015 - accuracy: 0.8452\n",
      "Epoch 00045: val_loss did not improve from 0.00397\n",
      "27/27 [==============================] - 8s 283ms/step - loss: 0.0015 - accuracy: 0.8452 - val_loss: 0.0042 - val_accuracy: 0.5631\n",
      "Epoch 46/60\n",
      "27/27 [==============================] - ETA: 0s - loss: 0.0014 - accuracy: 0.8329\n",
      "Epoch 00046: val_loss did not improve from 0.00397\n",
      "27/27 [==============================] - 8s 288ms/step - loss: 0.0014 - accuracy: 0.8329 - val_loss: 0.0041 - val_accuracy: 0.5304\n",
      "Epoch 47/60\n",
      "27/27 [==============================] - ETA: 0s - loss: 0.0014 - accuracy: 0.8493\n",
      "Epoch 00047: val_loss did not improve from 0.00397\n",
      "27/27 [==============================] - 8s 308ms/step - loss: 0.0014 - accuracy: 0.8493 - val_loss: 0.0043 - val_accuracy: 0.5421\n",
      "Epoch 48/60\n",
      "27/27 [==============================] - ETA: 0s - loss: 0.0016 - accuracy: 0.8259\n",
      "Epoch 00048: val_loss did not improve from 0.00397\n",
      "27/27 [==============================] - 9s 330ms/step - loss: 0.0016 - accuracy: 0.8259 - val_loss: 0.0045 - val_accuracy: 0.5421\n",
      "Epoch 49/60\n",
      "27/27 [==============================] - ETA: 0s - loss: 0.0014 - accuracy: 0.8429\n",
      "Epoch 00049: val_loss did not improve from 0.00397\n",
      "27/27 [==============================] - 9s 334ms/step - loss: 0.0014 - accuracy: 0.8429 - val_loss: 0.0040 - val_accuracy: 0.4836\n",
      "Epoch 50/60\n",
      "27/27 [==============================] - ETA: 0s - loss: 0.0013 - accuracy: 0.8353\n",
      "Epoch 00050: val_loss did not improve from 0.00397\n",
      "27/27 [==============================] - 8s 306ms/step - loss: 0.0013 - accuracy: 0.8353 - val_loss: 0.0041 - val_accuracy: 0.5397\n",
      "Epoch 51/60\n",
      "27/27 [==============================] - ETA: 0s - loss: 0.0013 - accuracy: 0.8546\n",
      "Epoch 00051: val_loss improved from 0.00397 to 0.00395, saving model to checkpoint1.hdf5\n",
      "27/27 [==============================] - 9s 351ms/step - loss: 0.0013 - accuracy: 0.8546 - val_loss: 0.0040 - val_accuracy: 0.5654\n",
      "Epoch 52/60\n",
      "27/27 [==============================] - ETA: 0s - loss: 0.0013 - accuracy: 0.8382\n",
      "Epoch 00052: val_loss improved from 0.00395 to 0.00395, saving model to checkpoint1.hdf5\n",
      "27/27 [==============================] - 10s 355ms/step - loss: 0.0013 - accuracy: 0.8382 - val_loss: 0.0040 - val_accuracy: 0.5070\n",
      "Epoch 53/60\n",
      "27/27 [==============================] - ETA: 0s - loss: 0.0011 - accuracy: 0.8376\n",
      "Epoch 00053: val_loss improved from 0.00395 to 0.00368, saving model to checkpoint1.hdf5\n",
      "27/27 [==============================] - 9s 351ms/step - loss: 0.0011 - accuracy: 0.8376 - val_loss: 0.0037 - val_accuracy: 0.5654\n",
      "Epoch 54/60\n",
      "27/27 [==============================] - ETA: 0s - loss: 0.0013 - accuracy: 0.8417\n",
      "Epoch 00054: val_loss did not improve from 0.00368\n",
      "27/27 [==============================] - 8s 294ms/step - loss: 0.0013 - accuracy: 0.8417 - val_loss: 0.0038 - val_accuracy: 0.5537\n",
      "Epoch 55/60\n",
      "27/27 [==============================] - ETA: 0s - loss: 0.0012 - accuracy: 0.8353\n",
      "Epoch 00055: val_loss did not improve from 0.00368\n",
      "27/27 [==============================] - 9s 329ms/step - loss: 0.0012 - accuracy: 0.8353 - val_loss: 0.0041 - val_accuracy: 0.5093\n",
      "Epoch 56/60\n",
      "27/27 [==============================] - ETA: 0s - loss: 0.0013 - accuracy: 0.8440\n",
      "Epoch 00056: val_loss did not improve from 0.00368\n",
      "27/27 [==============================] - 10s 386ms/step - loss: 0.0013 - accuracy: 0.8440 - val_loss: 0.0041 - val_accuracy: 0.5093\n",
      "Epoch 57/60\n",
      "27/27 [==============================] - ETA: 0s - loss: 0.0012 - accuracy: 0.8586\n",
      "Epoch 00057: val_loss did not improve from 0.00368\n",
      "27/27 [==============================] - 10s 366ms/step - loss: 0.0012 - accuracy: 0.8586 - val_loss: 0.0038 - val_accuracy: 0.5140\n",
      "Epoch 58/60\n",
      "27/27 [==============================] - ETA: 0s - loss: 0.0012 - accuracy: 0.8411\n",
      "Epoch 00058: val_loss did not improve from 0.00368\n",
      "27/27 [==============================] - 9s 344ms/step - loss: 0.0012 - accuracy: 0.8411 - val_loss: 0.0041 - val_accuracy: 0.5117\n",
      "Epoch 59/60\n",
      "27/27 [==============================] - ETA: 0s - loss: 0.0012 - accuracy: 0.8470\n",
      "Epoch 00059: val_loss did not improve from 0.00368\n",
      "27/27 [==============================] - 10s 377ms/step - loss: 0.0012 - accuracy: 0.8470 - val_loss: 0.0040 - val_accuracy: 0.4907\n",
      "Epoch 60/60\n",
      "27/27 [==============================] - ETA: 0s - loss: 0.0012 - accuracy: 0.8557\n",
      "Epoch 00060: val_loss did not improve from 0.00368\n",
      "27/27 [==============================] - 9s 347ms/step - loss: 0.0012 - accuracy: 0.8557 - val_loss: 0.0039 - val_accuracy: 0.5397\n"
     ]
    }
   ],
   "source": [
    "model_fit = model.fit(X_train, y_train, validation_split=0.2, epochs=epochs, batch_size=batch_size, callbacks=[checkpointer, hist], verbose=1)\n",
    "model.save('simple_model.h5')"
   ]
  },
  {
   "cell_type": "code",
   "execution_count": null,
   "metadata": {},
   "outputs": [],
   "source": []
  }
 ],
 "metadata": {
  "kernelspec": {
   "display_name": "Python 3",
   "language": "python",
   "name": "python3"
  },
  "language_info": {
   "codemirror_mode": {
    "name": "ipython",
    "version": 3
   },
   "file_extension": ".py",
   "mimetype": "text/x-python",
   "name": "python",
   "nbconvert_exporter": "python",
   "pygments_lexer": "ipython3",
   "version": "3.7.6"
  }
 },
 "nbformat": 4,
 "nbformat_minor": 4
}
